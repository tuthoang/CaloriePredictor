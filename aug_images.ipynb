{
 "cells": [
  {
   "cell_type": "code",
   "execution_count": 1,
   "metadata": {},
   "outputs": [],
   "source": [
    "data_dir = 'subway'\n",
    "\n",
    "from pathlib import Path\n",
    "from PIL import Image\n",
    "from torchvision import datasets, transforms, models\n",
    "\n",
    "x_dataset = []\n",
    "for filename in Path(data_dir).glob('*'):\n",
    "    transforms.Compose([transforms.Resize(224),\n",
    "                                            transforms.RandomCrop(224),\n",
    "                                        transforms.ToTensor()\n",
    "                                        ])\n",
    "    x_dataset.append(filename)\n"
   ]
  },
  {
   "cell_type": "code",
   "execution_count": 7,
   "metadata": {},
   "outputs": [],
   "source": [
    "transform = transforms.Compose([transforms.Resize(224),\n",
    "                                                transforms.RandomCrop(224),\n",
    "                                                transforms.ToTensor()\n",
    "                                                ])\n",
    "preprocessed_x = []\n",
    "for x in x_dataset:\n",
    "    preprocessed_x.append(transform(Image.open(x)))\n"
   ]
  },
  {
   "cell_type": "code",
   "execution_count": 38,
   "metadata": {},
   "outputs": [],
   "source": [
    "import imageio\n",
    "from imgaug import augmenters as iaa\n",
    "import torchvision.transforms.functional as TF\n",
    "\n",
    "augmented_x = []\n",
    "\n",
    "for x in preprocessed_x:\n",
    "    augmented_x.append(x)\n",
    "    augmented_x.append(TF.to_tensor(iaa.CoarseDropout(0.1, size_percent=0.2).augment_images([x])[0])) #removing pixels\n",
    "    augmented_x.append(TF.to_tensor(iaa.Affine(rotate=(-25, 25)).augment_images([x])[0])) #rotation\n",
    "    augmented_x.append(TF.to_tensor(iaa.GammaContrast(1.5).augment_images([x])[0])) #contrasting the image\n",
    "    augmented_x.append(TF.to_tensor(iaa.Fliplr(p = 1.0).augment_images([x])[0].copy())) #horizontal flip\n",
    "    augmented_x.append(TF.to_tensor(iaa.GaussianBlur((0, 3.0)).augment_images([x])[0])) #adding gaussian noise\n",
    "    augmented_x.append(TF.to_tensor(iaa.CropAndPad(percent=(-0.25, 0.25)).augment_images([x])[0])) #cropping and padding  "
   ]
  }
 ],
 "metadata": {
  "kernelspec": {
   "display_name": "Python 3",
   "language": "python",
   "name": "python3"
  },
  "language_info": {
   "codemirror_mode": {
    "name": "ipython",
    "version": 3
   },
   "file_extension": ".py",
   "mimetype": "text/x-python",
   "name": "python",
   "nbconvert_exporter": "python",
   "pygments_lexer": "ipython3",
   "version": "3.7.3"
  }
 },
 "nbformat": 4,
 "nbformat_minor": 2
}
