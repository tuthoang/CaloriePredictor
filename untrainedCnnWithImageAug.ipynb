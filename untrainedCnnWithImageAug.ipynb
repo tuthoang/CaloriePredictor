{
  "nbformat": 4,
  "nbformat_minor": 0,
  "metadata": {
    "colab": {
      "name": "Untitled0.ipynb",
      "provenance": [],
      "collapsed_sections": [],
      "toc_visible": true
    },
    "kernelspec": {
      "name": "python3",
      "display_name": "Python 3"
    },
    "accelerator": "GPU"
  },
  "cells": [
    {
      "cell_type": "code",
      "metadata": {
        "id": "nGXEL3DkrSwn",
        "colab_type": "code",
        "colab": {}
      },
      "source": [
        ""
      ],
      "execution_count": 0,
      "outputs": []
    },
    {
      "cell_type": "code",
      "metadata": {
        "id": "hItbh2TFxeet",
        "colab_type": "code",
        "colab": {
          "base_uri": "https://localhost:8080/",
          "height": 54
        },
        "outputId": "4aecfae9-9546-4b63-95a9-b899b31a65bf"
      },
      "source": [
        "from google.colab import drive\n",
        "drive.mount('/content/drive')"
      ],
      "execution_count": 41,
      "outputs": [
        {
          "output_type": "stream",
          "text": [
            "Drive already mounted at /content/drive; to attempt to forcibly remount, call drive.mount(\"/content/drive\", force_remount=True).\n"
          ],
          "name": "stdout"
        }
      ]
    },
    {
      "cell_type": "code",
      "metadata": {
        "id": "PL04ceUmyqXV",
        "colab_type": "code",
        "colab": {}
      },
      "source": [
        "import os\n",
        "from keras.preprocessing.image import ImageDataGenerator,load_img\n",
        "import cv2\n",
        "from random import shuffle\n",
        "from shutil import copyfile,rmtree\n",
        "import json\n",
        "from imgaug import augmenters as iaa\n",
        "import numpy as np\n",
        "from PIL import Image\n",
        "\n",
        "class ImagePrep:\n",
        "    \n",
        "    def getTrainTest(self,directory,extention):\n",
        "        files = []\n",
        "        for file in os.listdir(directory):\n",
        "            if file.endswith(extention):\n",
        "                files.append(file)\n",
        "        shuffle(files)\n",
        "        splt = int(len(files)*0.8)\n",
        "        x_train_files = files[0:splt]\n",
        "        x_test_files = files[splt:-1]\n",
        "        \n",
        "        json_data = open(directory +'/calories_json.json',mode='r').read()\n",
        "        y_map = json.loads(json_data)\n",
        "        \n",
        "        x_train = [load_img(directory+\"/\"+x, target_size=(224,224,3)) for x in x_train_files]\n",
        "        y_train = [y_map[x] for x in x_train_files]\n",
        "        x_test = [load_img(directory+\"/\"+x, target_size=(224,224,3)) for x in x_test_files]\n",
        "        y_test = [y_map[x] for x in x_test_files]\n",
        "        \n",
        "        return x_train,y_train,x_test,y_test\n",
        "    \n",
        "    def augmentImages(self,x,y):\n",
        "        x_train_aug = []\n",
        "        y_train_aug = []\n",
        "        \n",
        "        for i in range(len(x)):\n",
        "            x_train_aug.append(x[i])\n",
        "            y_train_aug.append(y[i])\n",
        "            \n",
        "            #transformation one - adding random black dots in the image\n",
        "            t = iaa.CoarseDropout(0.1, size_percent=0.2).augment_images([np.array(x[i])])\n",
        "            x_train_aug.append(Image.fromarray(np.uint8(t[0])))\n",
        "            y_train_aug.append(y[i])\n",
        "            \n",
        "            #transformation two - simple rotation\n",
        "            t = iaa.Affine(rotate=(-25, 25)).augment_images([np.array(x[i])])\n",
        "            x_train_aug.append(Image.fromarray(np.uint8(t[0])))\n",
        "            y_train_aug.append(y[i])\n",
        "        \n",
        "            #transformation three - increasing the contrast of the objects in the image\n",
        "            t = iaa.GammaContrast(1.5).augment_images([np.array(x[i])])\n",
        "            x_train_aug.append(Image.fromarray(np.uint8(t[0])))\n",
        "            y_train_aug.append(y[i])\n",
        "            \n",
        "            #transformation four - mirror effect\n",
        "            t = iaa.Fliplr(p = 1.0).augment_images([np.array(x[i])])\n",
        "            x_train_aug.append(Image.fromarray(np.uint8(t[0])))\n",
        "            y_train_aug.append(y[i])\n",
        "            \n",
        "            #transformation five - blurring effect\n",
        "            t = iaa.GaussianBlur((0, 3.0)).augment_images([np.array(x[i])])\n",
        "            x_train_aug.append(Image.fromarray(np.uint8(t[0])))\n",
        "            y_train_aug.append(y[i])\n",
        "            \n",
        "            #transformation six - cropping and padding, expand, squish, move effect\n",
        "            t = iaa.CropAndPad(percent=(-0.25, 0.25)).augment_images([np.array(x[i])])\n",
        "            x_train_aug.append(Image.fromarray(np.uint8(t[0])))\n",
        "            y_train_aug.append(y[i])\n",
        "            \n",
        "            #transformation seven - it randomly moves pixels around within a given bound\n",
        "            t = iaa.ElasticTransformation(alpha=(0.5, 3.5), sigma=0.25).augment_images([np.array(x[i])])\n",
        "            x_train_aug.append(Image.fromarray(np.uint8(t[0])))\n",
        "            y_train_aug.append(y[i])\n",
        "            \n",
        "        return x_train_aug,y_train_aug"
      ],
      "execution_count": 0,
      "outputs": []
    },
    {
      "cell_type": "code",
      "metadata": {
        "id": "F-r_mzZCy50o",
        "colab_type": "code",
        "colab": {}
      },
      "source": [
        "obj = ImagePrep()\n",
        "x_train,y_train,x_test,y_test = obj.getTrainTest(\"drive/My Drive/subway\",'.png')\n",
        "x_train_aug,y_train_aug = obj.augmentImages(x_train,y_train)\n",
        "\n",
        "x_train_aug_np = np.array([np.array(x) for x in x_train_aug])\n",
        "y_train_aug = np.array(y_train_aug).astype('int')"
      ],
      "execution_count": 0,
      "outputs": []
    },
    {
      "cell_type": "code",
      "metadata": {
        "id": "sSSLSr7O-S1W",
        "colab_type": "code",
        "colab": {}
      },
      "source": [
        "from keras.models import Sequential\n",
        "from keras.layers.normalization import BatchNormalization\n",
        "from keras.layers.convolutional import Conv2D\n",
        "from keras.layers.convolutional import MaxPooling2D\n",
        "from keras.layers.core import Activation\n",
        "from keras.layers.core import Dropout\n",
        "from keras.layers.core import Dense\n",
        "from keras.layers import Flatten\n",
        "from keras.layers import Input\n",
        "from keras.models import Model\n",
        "from keras.optimizers import Adam\n",
        "from keras.losses import mean_squared_error as mse\n",
        "from keras import layers,models\n",
        "from keras.applications.resnet50 import ResNet50\n",
        "\n",
        "class Models:\n",
        "\n",
        "    def cnn(\n",
        "        self,\n",
        "        width,\n",
        "        height,\n",
        "        depth,\n",
        "        filters=(16, 32, 64),\n",
        "        regress=False,\n",
        "        ):\n",
        "\n",
        "        # initialize the input shape and channel dimension, assuming\n",
        "        # TensorFlow/channels-last ordering\n",
        "\n",
        "        inputShape = (height, width, depth)\n",
        "        chanDim = -1\n",
        "\n",
        "        # define the model input\n",
        "\n",
        "        inputs = Input(shape=inputShape)\n",
        "\n",
        "        # loop over the number of filters\n",
        "\n",
        "        for (i, f) in enumerate(filters):\n",
        "\n",
        "            # if this is the first CONV layer then set the input\n",
        "            # appropriately\n",
        "\n",
        "            if i == 0:\n",
        "                x = inputs\n",
        "\n",
        "            # CONV => RELU => BN => POOL\n",
        "\n",
        "            x = Conv2D(f, (3, 3), padding='same')(x)\n",
        "            x = Activation('relu')(x)\n",
        "            x = BatchNormalization(axis=chanDim)(x)\n",
        "            x = MaxPooling2D(pool_size=(2, 2))(x)\n",
        "\n",
        "            # flatten the volume, then FC => RELU => BN => DROPOUT\n",
        "\n",
        "        x = Flatten()(x)\n",
        "        x = Dense(16)(x)\n",
        "        x = Activation('relu')(x)\n",
        "        x = BatchNormalization(axis=chanDim)(x)\n",
        "        x = Dropout(0.5)(x)\n",
        "\n",
        "        # apply another FC layer, this one to match the number of nodes\n",
        "        # coming out of the MLP\n",
        "\n",
        "        x = Dense(4)(x)\n",
        "        x = Activation('relu')(x)\n",
        "\n",
        "        # check to see if the regression node should be added\n",
        "\n",
        "        if regress:\n",
        "            x = Dense(1, activation='linear')(x)\n",
        "\n",
        "        # construct the CNN\n",
        "\n",
        "        model = Model(inputs, x)\n",
        "\n",
        "        # return the CNN\n",
        "\n",
        "        return model\n",
        "\n",
        "    def resnet(self, freezing):\n",
        "        resnet50_model = ResNet50(include_top=True, weights='imagenet')\n",
        "\n",
        "        # in this model we are freezing layers(3,116) inclusive freezing\n",
        "\n",
        "        if freezing:\n",
        "            times = 0\n",
        "        for i in range(3, 200, 1):\n",
        "            if 'BatchNormalization' \\\n",
        "                in str(type(resnet50_model.layers[i])) and times == 40:\n",
        "                break\n",
        "            else:\n",
        "                if 'BatchNormalization' \\\n",
        "                    in str(type(resnet50_model.layers[i])):\n",
        "                    times += 1\n",
        "            resnet50_model.layers[i].trainable = False\n",
        "        regression_model = models.Sequential()\n",
        "        resnet50_model.layers[176] = layers.Dense(512, activation='relu'\n",
        "                )\n",
        "        regression_model.add(resnet50_model)\n",
        "        regression_model.add(layers.Dense(256, activation='sigmoid'))\n",
        "        regression_model.add(layers.Dense(128, activation='relu'))\n",
        "        regression_model.add(layers.Dense(1, activation='linear'))\n",
        "        regression_model.compile(optimizer='sgd',\n",
        "                                 loss='mean_squared_error',\n",
        "                                 metrics=['accuracy'])\n",
        "        return regression_model\n"
      ],
      "execution_count": 0,
      "outputs": []
    },
    {
      "cell_type": "code",
      "metadata": {
        "id": "RbYuTFJY1aCB",
        "colab_type": "code",
        "colab": {}
      },
      "source": [
        "models = Models()\n",
        "cnn_model = models.cnn(224,224,3,regress=True)"
      ],
      "execution_count": 0,
      "outputs": []
    },
    {
      "cell_type": "code",
      "metadata": {
        "id": "oKpOg9mf1dqA",
        "colab_type": "code",
        "colab": {}
      },
      "source": [
        "from keras.optimizers import Adam\n",
        "opt = Adam(lr=1e-3, decay=1e-3 / 200)\n",
        "cnn_model.compile(loss=\"mean_absolute_percentage_error\", optimizer=opt)"
      ],
      "execution_count": 0,
      "outputs": []
    },
    {
      "cell_type": "code",
      "metadata": {
        "id": "ar3DYncK9EO9",
        "colab_type": "code",
        "colab": {
          "base_uri": "https://localhost:8080/",
          "height": 714
        },
        "outputId": "e9dbcdc3-194a-4b74-fcb7-cbf8b0730c89"
      },
      "source": [
        "cnn_model.fit(x_train_aug_np, y_train_aug, epochs=20, batch_size=8)"
      ],
      "execution_count": 52,
      "outputs": [
        {
          "output_type": "stream",
          "text": [
            "Epoch 1/20\n",
            "960/960 [==============================] - 4s 4ms/step - loss: 48.1403\n",
            "Epoch 2/20\n",
            "960/960 [==============================] - 4s 4ms/step - loss: 47.2358\n",
            "Epoch 3/20\n",
            "960/960 [==============================] - 4s 4ms/step - loss: 45.4547\n",
            "Epoch 4/20\n",
            "960/960 [==============================] - 4s 4ms/step - loss: 44.7804\n",
            "Epoch 5/20\n",
            "960/960 [==============================] - 4s 4ms/step - loss: 43.1818\n",
            "Epoch 6/20\n",
            "960/960 [==============================] - 4s 4ms/step - loss: 40.2223\n",
            "Epoch 7/20\n",
            "960/960 [==============================] - 4s 4ms/step - loss: 42.2194\n",
            "Epoch 8/20\n",
            "960/960 [==============================] - 4s 4ms/step - loss: 39.6404\n",
            "Epoch 9/20\n",
            "960/960 [==============================] - 4s 4ms/step - loss: 37.6669\n",
            "Epoch 10/20\n",
            "960/960 [==============================] - 4s 4ms/step - loss: 37.0169\n",
            "Epoch 11/20\n",
            "960/960 [==============================] - 4s 4ms/step - loss: 35.0587\n",
            "Epoch 12/20\n",
            "960/960 [==============================] - 4s 4ms/step - loss: 34.4465\n",
            "Epoch 13/20\n",
            "960/960 [==============================] - 4s 4ms/step - loss: 34.3709\n",
            "Epoch 14/20\n",
            "960/960 [==============================] - 4s 4ms/step - loss: 34.4256\n",
            "Epoch 15/20\n",
            "960/960 [==============================] - 4s 4ms/step - loss: 33.0041\n",
            "Epoch 16/20\n",
            "960/960 [==============================] - 4s 4ms/step - loss: 34.2909\n",
            "Epoch 17/20\n",
            "960/960 [==============================] - 4s 4ms/step - loss: 33.6615\n",
            "Epoch 18/20\n",
            "960/960 [==============================] - 4s 4ms/step - loss: 32.7142\n",
            "Epoch 19/20\n",
            "960/960 [==============================] - 4s 4ms/step - loss: 33.3334\n",
            "Epoch 20/20\n",
            "960/960 [==============================] - 4s 4ms/step - loss: 31.2500\n"
          ],
          "name": "stdout"
        },
        {
          "output_type": "execute_result",
          "data": {
            "text/plain": [
              "<keras.callbacks.History at 0x7fa99133add8>"
            ]
          },
          "metadata": {
            "tags": []
          },
          "execution_count": 52
        }
      ]
    },
    {
      "cell_type": "code",
      "metadata": {
        "id": "uyupN4ta90km",
        "colab_type": "code",
        "colab": {}
      },
      "source": [
        "x_test_np = np.array([np.array(x) for x in x_test])\n",
        "y_pred = cnn_model.predict(x_test_np)"
      ],
      "execution_count": 0,
      "outputs": []
    },
    {
      "cell_type": "code",
      "metadata": {
        "id": "W6aw71YB99zo",
        "colab_type": "code",
        "colab": {
          "base_uri": "https://localhost:8080/",
          "height": 272
        },
        "outputId": "a851f73a-656c-4eb3-8b7b-8617e1a0fbcf"
      },
      "source": [
        "y_test = np.array(y_test).astype('int')\n",
        "print(np.average(y_pred.flatten() - y_test))\n",
        "print(y_pred.flatten())\n",
        "print(y_test)\n",
        "print(y_test-y_pred.flatten())"
      ],
      "execution_count": 54,
      "outputs": [
        {
          "output_type": "stream",
          "text": [
            "8.700533040364583\n",
            "[547.955   661.16376 863.71344 677.2073  686.2107  903.4587  564.3907\n",
            " 750.31305 774.5853  444.19    305.08844 610.4329  732.9163  496.39307\n",
            " 922.2946  604.6076  704.2955  702.2757  657.7255  362.64484 780.11\n",
            " 458.68585 704.8116  572.0615  552.23376 663.2758  796.8928  777.4291\n",
            " 488.2895  485.36365]\n",
            "[ 370 1200  950  390  790  740  320 1090  740  630  220  430 1160  920\n",
            "  600  310  570  780  380  200  890  540  600  440  380  450  650  600\n",
            "  400 1250]\n",
            "[-177.95501709  538.83624268   86.28656006 -287.20727539  103.78930664\n",
            " -163.4586792  -244.39068604  339.68695068  -34.58532715  185.80999756\n",
            "  -85.08843994 -180.43292236  427.0836792   423.60693359 -322.2946167\n",
            " -294.60760498 -134.29547119   77.7243042  -277.7255249  -162.64483643\n",
            "  109.89001465   81.31414795 -104.81158447 -132.06152344 -172.23376465\n",
            " -213.27581787 -146.89282227 -177.42907715  -88.28948975  764.63635254]\n"
          ],
          "name": "stdout"
        }
      ]
    }
  ]
}